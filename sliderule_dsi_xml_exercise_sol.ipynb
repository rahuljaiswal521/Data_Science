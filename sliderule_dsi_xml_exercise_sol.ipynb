{
 "cells": [
  {
   "cell_type": "markdown",
   "metadata": {},
   "source": [
    "#   XML example and exercise\n",
    "****\n",
    "+ study examples of accessing nodes in XML tree structure  \n",
    "+ work on exercise to be completed and submitted\n",
    "****\n",
    "+ reference: https://docs.python.org/2.7/library/xml.etree.elementtree.html\n",
    "+ data source: http://www.dbis.informatik.uni-goettingen.de/Mondial\n",
    "****"
   ]
  },
  {
   "cell_type": "code",
   "execution_count": 1,
   "metadata": {
    "collapsed": true
   },
   "outputs": [],
   "source": [
    "from xml.etree import ElementTree as ET"
   ]
  },
  {
   "cell_type": "markdown",
   "metadata": {},
   "source": [
    "## XML example\n",
    "\n",
    "+ for details about tree traversal and iterators, see https://docs.python.org/2.7/library/xml.etree.elementtree.html"
   ]
  },
  {
   "cell_type": "code",
   "execution_count": 2,
   "metadata": {
    "collapsed": false
   },
   "outputs": [],
   "source": [
    "document_tree = ET.parse( r'F:\\Data Science\\data_wrangling_xml\\data\\mondial_database_less.xml' )"
   ]
  },
  {
   "cell_type": "code",
   "execution_count": 4,
   "metadata": {
    "collapsed": false
   },
   "outputs": [
    {
     "name": "stdout",
     "output_type": "stream",
     "text": [
      "AL\n",
      "GR\n",
      "MK\n",
      "SRB\n",
      "MNE\n",
      "KOS\n",
      "AND\n"
     ]
    }
   ],
   "source": [
    "for element in document_tree.iterfind('country'):\n",
    "    print(element.attrib['car_code'])\n",
    "        "
   ]
  },
  {
   "cell_type": "code",
   "execution_count": 55,
   "metadata": {
    "collapsed": true
   },
   "outputs": [
    {
     "data": {
      "text/plain": [
       "[['Tirana', '1987', '192000'],\n",
       " ['Tirana', '1990', '244153'],\n",
       " ['Tirana', '2011', '418495'],\n",
       " ['Shkodër', '1987', '62000'],\n",
       " ['Shkodër', '2011', '77075'],\n",
       " ['Durrës', '1987', '60000'],\n",
       " ['Durrës', '2011', '113249'],\n",
       " ['Vlorë', '1987', '56000'],\n",
       " ['Vlorë', '2011', '79513'],\n",
       " ['Elbasan', '1987', '53000'],\n",
       " ['Elbasan', '2011', '78703'],\n",
       " ['Korçë', '1987', '52000'],\n",
       " ['Korçë', '2011', '51152'],\n",
       " ['Kavala', '1981', '56705'],\n",
       " ['Kavala', '1991', '60187'],\n",
       " ['Kavala', '2001', '63774'],\n",
       " ['Kavala', '2011', '58790'],\n",
       " ['Athina', '1981', '885737'],\n",
       " ['Athina', '1991', '816556'],\n",
       " ['Athina', '2001', '789166'],\n",
       " ['Athina', '2011', '664046'],\n",
       " ['Peiraias', '1981', '196389'],\n",
       " ['Peiraias', '1991', '187399'],\n",
       " ['Peiraias', '2001', '181933'],\n",
       " ['Peiraias', '2011', '163688'],\n",
       " ['Peristeri', '1991', '141971'],\n",
       " ['Peristeri', '2001', '146743'],\n",
       " ['Peristeri', '2011', '139981'],\n",
       " ['Acharnes', '1991', '65035'],\n",
       " ['Acharnes', '2001', '82555'],\n",
       " ['Acharnes', '2011', '106943'],\n",
       " ['Patra', '1981', '142163'],\n",
       " ['Patra', '1991', '190463'],\n",
       " ['Patra', '2001', '210494'],\n",
       " ['Patra', '2011', '213984'],\n",
       " ['Kerkyra', '1991', '101236'],\n",
       " ['Kerkyra', '2001', '108652'],\n",
       " ['Kerkyra', '2011', '102071'],\n",
       " ['Ioannina', '1991', '92425'],\n",
       " ['Ioannina', '2001', '103101'],\n",
       " ['Ioannina', '2011', '112486'],\n",
       " ['Thessaloniki', '1981', '406413'],\n",
       " ['Thessaloniki', '1991', '424220'],\n",
       " ['Thessaloniki', '2001', '397156'],\n",
       " ['Thessaloniki', '2011', '325182'],\n",
       " ['Iraklio', '1981', '102398'],\n",
       " ['Iraklio', '1991', '146536'],\n",
       " ['Iraklio', '2001', '163115'],\n",
       " ['Iraklio', '2011', '173993'],\n",
       " ['Chania', '1991', '83712'],\n",
       " ['Chania', '2001', '98202'],\n",
       " ['Chania', '2011', '108642'],\n",
       " ['Rhodes', '1991', '96159'],\n",
       " ['Rhodes', '2001', '115334'],\n",
       " ['Rhodes', '2011', '115490'],\n",
       " ['Lamia', '2011', '75315'],\n",
       " ['Chalkida', '1991', '85573'],\n",
       " ['Chalkida', '2001', '92809'],\n",
       " ['Chalkida', '2011', '102223'],\n",
       " ['Larissa', '1981', '102426'],\n",
       " ['Larissa', '1991', '129429'],\n",
       " ['Larissa', '2001', '145981'],\n",
       " ['Larissa', '2011', '162591'],\n",
       " ['Volos', '1981', '71378'],\n",
       " ['Volos', '1991', '132917'],\n",
       " ['Volos', '2001', '142923'],\n",
       " ['Volos', '2011', '144449'],\n",
       " ['Karyes', '2014', '233'],\n",
       " ['Skopje', '2002', '506926'],\n",
       " ['Skopje', '2011', '514967'],\n",
       " ['Kumanovo', '2002', '105484'],\n",
       " ['Kumanovo', '2011', '107745'],\n",
       " ['Beograd', '1987', '1407073'],\n",
       " ['Beograd', '2002', '1576124'],\n",
       " ['Beograd', '2011', '1639121'],\n",
       " ['Novi Sad', '2002', '299294'],\n",
       " ['Novi Sad', '2011', '335701'],\n",
       " ['Niš', '2002', '250518'],\n",
       " ['Niš', '2011', '257867'],\n",
       " ['Podgorica', '2003', '136473'],\n",
       " ['Podgorica', '2011', '150977'],\n",
       " ['Prishtine', '1981', '148090'],\n",
       " ['Prishtine', '1991', '199654'],\n",
       " ['Prishtine', '2011', '198214'],\n",
       " ['Andorra la Vella', '1987', '15600'],\n",
       " ['Andorra la Vella', '2001', '20787'],\n",
       " ['Andorra la Vella', '2011', '22256']]"
      ]
     },
     "execution_count": 55,
     "metadata": {},
     "output_type": "execute_result"
    }
   ],
   "source": [
    "arr"
   ]
  },
  {
   "cell_type": "code",
   "execution_count": 3,
   "metadata": {
    "collapsed": false,
    "scrolled": true
   },
   "outputs": [
    {
     "name": "stdout",
     "output_type": "stream",
     "text": [
      "Albania\n",
      "Greece\n",
      "Macedonia\n",
      "Serbia\n",
      "Montenegro\n",
      "Kosovo\n",
      "Andorra\n"
     ]
    }
   ],
   "source": [
    "# print names of all countries\n",
    "for child in document_tree.getroot():\n",
    "    print (child.find('name').text)"
   ]
  },
  {
   "cell_type": "code",
   "execution_count": 25,
   "metadata": {
    "collapsed": true
   },
   "outputs": [
    {
     "name": "stdout",
     "output_type": "stream",
     "text": [
      "* Albania:\n",
      "Tirana, Shkodër, Durrës, Vlorë, Elbasan, Korçë\n",
      "* Greece:\n",
      "Komotini, Kavala, Athina, Peiraias, Peristeri, Acharnes, Patra, Kozani, Kerkyra, Ioannina, Thessaloniki, Iraklio, Chania, Ermoupoli, Rhodes, Tripoli, Lamia, Chalkida, Larissa, Volos, Mytilini, Karyes\n",
      "* Macedonia:\n",
      "Skopje, Kumanovo\n",
      "* Serbia:\n",
      "Beograd, Novi Sad, Niš\n",
      "* Montenegro:\n",
      "Podgorica\n",
      "* Kosovo:\n",
      "Prishtine\n",
      "* Andorra:\n",
      "Andorra la Vella\n"
     ]
    }
   ],
   "source": [
    "# print names of all countries and their cities\n",
    "for element in document_tree.iterfind('country'):\n",
    "    print ('* ' + element.find('name').text + ':',)\n",
    "    capitals_string = ''\n",
    "    for subelement in element.getiterator('city'):\n",
    "        capitals_string += subelement.find('name').text + ', '\n",
    "    print (capitals_string[:-2])"
   ]
  },
  {
   "cell_type": "markdown",
   "metadata": {},
   "source": [
    "****\n",
    "## XML exercise\n",
    "\n",
    "Using data in 'data/mondial_database.xml', the examples above, and refering to https://docs.python.org/2.7/library/xml.etree.elementtree.html, find\n",
    "\n",
    "1. 10 countries with the lowest infant mortality rates\n",
    "2. 10 cities with the largest population\n",
    "3. 10 ethnic groups with the largest overall populations (sum of best/latest estimates over all countries)\n",
    "4. name and country of a) longest river, b) largest lake and c) airport at highest elevation"
   ]
  },
  {
   "cell_type": "code",
   "execution_count": 4,
   "metadata": {
    "collapsed": true
   },
   "outputs": [],
   "source": [
    "document = ET.parse( r'F:\\Data Science\\data_wrangling_xml\\data\\mondial_database.xml' )"
   ]
  },
  {
   "cell_type": "markdown",
   "metadata": {},
   "source": [
    "# 10 countries with the lowest infant mortality rates"
   ]
  },
  {
   "cell_type": "markdown",
   "metadata": {},
   "source": [
    "## Creating an array with country name and infant mortality"
   ]
  },
  {
   "cell_type": "code",
   "execution_count": 5,
   "metadata": {
    "collapsed": false
   },
   "outputs": [],
   "source": [
    "import pandas as pd\n",
    "import numpy as np\n",
    "\n",
    "from xml.etree.ElementTree import QName\n",
    "# print names of all countries and their cities\n",
    "a=[]\n",
    "for element in document.iterfind('country'):\n",
    "    if element.find('infant_mortality') is None:\n",
    "        a.append([element.find('name').text,''])\n",
    "        continue\n",
    "    a.append([element.find('name').text,element.find('infant_mortality').text])\n"
   ]
  },
  {
   "cell_type": "markdown",
   "metadata": {},
   "source": [
    "## Changing array into Dataframe"
   ]
  },
  {
   "cell_type": "code",
   "execution_count": 48,
   "metadata": {
    "collapsed": false
   },
   "outputs": [],
   "source": [
    "a=pd.DataFrame(a)\n",
    "a.columns=['name','val']"
   ]
  },
  {
   "cell_type": "markdown",
   "metadata": {},
   "source": [
    "## changing datatype of val columns to numeric"
   ]
  },
  {
   "cell_type": "code",
   "execution_count": 49,
   "metadata": {
    "collapsed": true
   },
   "outputs": [],
   "source": [
    "a.val=a.val.apply(pd.to_numeric)"
   ]
  },
  {
   "cell_type": "markdown",
   "metadata": {},
   "source": [
    "## Removing NaN from val"
   ]
  },
  {
   "cell_type": "code",
   "execution_count": 50,
   "metadata": {
    "collapsed": false
   },
   "outputs": [],
   "source": [
    "a=a[~np.isnan(a.val)]"
   ]
  },
  {
   "cell_type": "markdown",
   "metadata": {},
   "source": [
    "## Getting last 10 record "
   ]
  },
  {
   "cell_type": "code",
   "execution_count": 51,
   "metadata": {
    "collapsed": true
   },
   "outputs": [
    {
     "data": {
      "text/html": [
       "<div>\n",
       "<table border=\"1\" class=\"dataframe\">\n",
       "  <thead>\n",
       "    <tr style=\"text-align: right;\">\n",
       "      <th></th>\n",
       "      <th>name</th>\n",
       "      <th>val</th>\n",
       "    </tr>\n",
       "  </thead>\n",
       "  <tbody>\n",
       "    <tr>\n",
       "      <th>38</th>\n",
       "      <td>Monaco</td>\n",
       "      <td>1.81</td>\n",
       "    </tr>\n",
       "    <tr>\n",
       "      <th>98</th>\n",
       "      <td>Japan</td>\n",
       "      <td>2.13</td>\n",
       "    </tr>\n",
       "    <tr>\n",
       "      <th>117</th>\n",
       "      <td>Bermuda</td>\n",
       "      <td>2.48</td>\n",
       "    </tr>\n",
       "    <tr>\n",
       "      <th>36</th>\n",
       "      <td>Norway</td>\n",
       "      <td>2.48</td>\n",
       "    </tr>\n",
       "    <tr>\n",
       "      <th>106</th>\n",
       "      <td>Singapore</td>\n",
       "      <td>2.53</td>\n",
       "    </tr>\n",
       "    <tr>\n",
       "      <th>37</th>\n",
       "      <td>Sweden</td>\n",
       "      <td>2.60</td>\n",
       "    </tr>\n",
       "    <tr>\n",
       "      <th>10</th>\n",
       "      <td>Czech Republic</td>\n",
       "      <td>2.63</td>\n",
       "    </tr>\n",
       "    <tr>\n",
       "      <th>78</th>\n",
       "      <td>Hong Kong</td>\n",
       "      <td>2.73</td>\n",
       "    </tr>\n",
       "    <tr>\n",
       "      <th>79</th>\n",
       "      <td>Macao</td>\n",
       "      <td>3.13</td>\n",
       "    </tr>\n",
       "    <tr>\n",
       "      <th>44</th>\n",
       "      <td>Iceland</td>\n",
       "      <td>3.15</td>\n",
       "    </tr>\n",
       "  </tbody>\n",
       "</table>\n",
       "</div>"
      ],
      "text/plain": [
       "               name   val\n",
       "38           Monaco  1.81\n",
       "98            Japan  2.13\n",
       "117         Bermuda  2.48\n",
       "36           Norway  2.48\n",
       "106       Singapore  2.53\n",
       "37           Sweden  2.60\n",
       "10   Czech Republic  2.63\n",
       "78        Hong Kong  2.73\n",
       "79            Macao  3.13\n",
       "44          Iceland  3.15"
      ]
     },
     "execution_count": 51,
     "metadata": {},
     "output_type": "execute_result"
    }
   ],
   "source": [
    "a.sort_values('val').head(10)"
   ]
  },
  {
   "cell_type": "markdown",
   "metadata": {},
   "source": [
    "## 10 cities with the largest population"
   ]
  },
  {
   "cell_type": "markdown",
   "metadata": {},
   "source": [
    "## Create an array with city name, year and population in that year"
   ]
  },
  {
   "cell_type": "code",
   "execution_count": 56,
   "metadata": {
    "collapsed": true
   },
   "outputs": [],
   "source": [
    "arr = []\n",
    "for element in document.iterfind('country'):\n",
    "    for subelement in element.getiterator('city'):\n",
    "        for subsubelement in subelement.getiterator('population'):\n",
    "            arr.append([subelement.find('name').text,subsubelement.attrib['year'],subsubelement.text])"
   ]
  },
  {
   "cell_type": "markdown",
   "metadata": {},
   "source": [
    "## Create a Dataframe from array"
   ]
  },
  {
   "cell_type": "code",
   "execution_count": 64,
   "metadata": {
    "collapsed": false
   },
   "outputs": [],
   "source": [
    "pop_df=pd.DataFrame(arr)\n",
    "pop_df.columns=['City','Year','Population']"
   ]
  },
  {
   "cell_type": "markdown",
   "metadata": {},
   "source": [
    "##Change the datatype of Population column "
   ]
  },
  {
   "cell_type": "code",
   "execution_count": 66,
   "metadata": {
    "collapsed": false
   },
   "outputs": [],
   "source": [
    "pop_df.Population=pop_df.Population.apply(pd.to_numeric)"
   ]
  },
  {
   "cell_type": "markdown",
   "metadata": {},
   "source": [
    "## Get the tp 10 populated cities "
   ]
  },
  {
   "cell_type": "code",
   "execution_count": 68,
   "metadata": {
    "collapsed": true
   },
   "outputs": [
    {
     "data": {
      "text/html": [
       "<div>\n",
       "<table border=\"1\" class=\"dataframe\">\n",
       "  <thead>\n",
       "    <tr style=\"text-align: right;\">\n",
       "      <th></th>\n",
       "      <th>City</th>\n",
       "      <th>Year</th>\n",
       "      <th>Population</th>\n",
       "    </tr>\n",
       "  </thead>\n",
       "  <tbody>\n",
       "    <tr>\n",
       "      <th>3750</th>\n",
       "      <td>Shanghai</td>\n",
       "      <td>2010</td>\n",
       "      <td>22315474</td>\n",
       "    </tr>\n",
       "    <tr>\n",
       "      <th>3749</th>\n",
       "      <td>Shanghai</td>\n",
       "      <td>2000</td>\n",
       "      <td>15758892</td>\n",
       "    </tr>\n",
       "    <tr>\n",
       "      <th>2607</th>\n",
       "      <td>Istanbul</td>\n",
       "      <td>2012</td>\n",
       "      <td>13710512</td>\n",
       "    </tr>\n",
       "    <tr>\n",
       "      <th>4398</th>\n",
       "      <td>Delhi</td>\n",
       "      <td>2001</td>\n",
       "      <td>12877470</td>\n",
       "    </tr>\n",
       "    <tr>\n",
       "      <th>4303</th>\n",
       "      <td>Mumbai</td>\n",
       "      <td>2011</td>\n",
       "      <td>12442373</td>\n",
       "    </tr>\n",
       "    <tr>\n",
       "      <th>1546</th>\n",
       "      <td>Moskva</td>\n",
       "      <td>2013</td>\n",
       "      <td>11979529</td>\n",
       "    </tr>\n",
       "    <tr>\n",
       "      <th>4302</th>\n",
       "      <td>Mumbai</td>\n",
       "      <td>2001</td>\n",
       "      <td>11914398</td>\n",
       "    </tr>\n",
       "    <tr>\n",
       "      <th>3746</th>\n",
       "      <td>Beijing</td>\n",
       "      <td>2010</td>\n",
       "      <td>11716620</td>\n",
       "    </tr>\n",
       "    <tr>\n",
       "      <th>1545</th>\n",
       "      <td>Moskva</td>\n",
       "      <td>2010</td>\n",
       "      <td>11612885</td>\n",
       "    </tr>\n",
       "    <tr>\n",
       "      <th>8208</th>\n",
       "      <td>São Paulo</td>\n",
       "      <td>2010</td>\n",
       "      <td>11152344</td>\n",
       "    </tr>\n",
       "  </tbody>\n",
       "</table>\n",
       "</div>"
      ],
      "text/plain": [
       "           City  Year  Population\n",
       "3750   Shanghai  2010    22315474\n",
       "3749   Shanghai  2000    15758892\n",
       "2607   Istanbul  2012    13710512\n",
       "4398      Delhi  2001    12877470\n",
       "4303     Mumbai  2011    12442373\n",
       "1546     Moskva  2013    11979529\n",
       "4302     Mumbai  2001    11914398\n",
       "3746    Beijing  2010    11716620\n",
       "1545     Moskva  2010    11612885\n",
       "8208  São Paulo  2010    11152344"
      ]
     },
     "execution_count": 68,
     "metadata": {},
     "output_type": "execute_result"
    }
   ],
   "source": [
    "pop_df.sort_values('Population',ascending=False).head(10)"
   ]
  },
  {
   "cell_type": "markdown",
   "metadata": {
    "collapsed": true
   },
   "source": [
    "# name and country of a) longest river, b) largest lake and c) airport at highest elevation"
   ]
  },
  {
   "cell_type": "markdown",
   "metadata": {},
   "source": [
    "## Getting the river name, length and country name from the xml "
   ]
  },
  {
   "cell_type": "code",
   "execution_count": 27,
   "metadata": {
    "collapsed": false
   },
   "outputs": [],
   "source": [
    "river_len=[]\n",
    "for element in document.iterfind('river'):\n",
    "    if element.find('length') is None:\n",
    "        continue\n",
    "    river_len.append([element.find('name').text,element.find('length').text,element.attrib['country']])"
   ]
  },
  {
   "cell_type": "code",
   "execution_count": 28,
   "metadata": {
    "collapsed": false
   },
   "outputs": [],
   "source": [
    "river_len=pd.DataFrame(river_len)"
   ]
  },
  {
   "cell_type": "markdown",
   "metadata": {},
   "source": [
    "## Getting the longest liver "
   ]
  },
  {
   "cell_type": "code",
   "execution_count": 29,
   "metadata": {
    "collapsed": false
   },
   "outputs": [
    {
     "data": {
      "text/html": [
       "<div>\n",
       "<table border=\"1\" class=\"dataframe\">\n",
       "  <thead>\n",
       "    <tr style=\"text-align: right;\">\n",
       "      <th></th>\n",
       "      <th>name</th>\n",
       "      <th>length</th>\n",
       "      <th>country</th>\n",
       "    </tr>\n",
       "  </thead>\n",
       "  <tbody>\n",
       "    <tr>\n",
       "      <th>174</th>\n",
       "      <td>Amazonas</td>\n",
       "      <td>6448.0</td>\n",
       "      <td>CO BR PE</td>\n",
       "    </tr>\n",
       "  </tbody>\n",
       "</table>\n",
       "</div>"
      ],
      "text/plain": [
       "         name  length   country\n",
       "174  Amazonas  6448.0  CO BR PE"
      ]
     },
     "execution_count": 29,
     "metadata": {},
     "output_type": "execute_result"
    }
   ],
   "source": [
    "river_len.columns=['name','length','country']\n",
    "river_len.length=river_len.length.apply(pd.to_numeric)\n",
    "river_len.sort_values('length',ascending=False).head(1)"
   ]
  },
  {
   "cell_type": "code",
   "execution_count": 45,
   "metadata": {
    "collapsed": false
   },
   "outputs": [],
   "source": [
    "lake_len=[]\n",
    "for element in document.iterfind('lake'):\n",
    "    lake_len.append([element.find('name').text,element.find('latitude').text,element.attrib['country']])"
   ]
  },
  {
   "cell_type": "code",
   "execution_count": 48,
   "metadata": {
    "collapsed": true
   },
   "outputs": [],
   "source": [
    "lake_len=pd.DataFrame(lake_len)\n",
    "lake_len.columns=['name','length','country']"
   ]
  },
  {
   "cell_type": "code",
   "execution_count": 49,
   "metadata": {
    "collapsed": false
   },
   "outputs": [
    {
     "data": {
      "text/html": [
       "<div>\n",
       "<table border=\"1\" class=\"dataframe\">\n",
       "  <thead>\n",
       "    <tr style=\"text-align: right;\">\n",
       "      <th></th>\n",
       "      <th>name</th>\n",
       "      <th>length</th>\n",
       "      <th>country</th>\n",
       "    </tr>\n",
       "  </thead>\n",
       "  <tbody>\n",
       "    <tr>\n",
       "      <th>44</th>\n",
       "      <td>Ozero Taimyr</td>\n",
       "      <td>74.5</td>\n",
       "      <td>R</td>\n",
       "    </tr>\n",
       "  </tbody>\n",
       "</table>\n",
       "</div>"
      ],
      "text/plain": [
       "            name  length country\n",
       "44  Ozero Taimyr    74.5       R"
      ]
     },
     "execution_count": 49,
     "metadata": {},
     "output_type": "execute_result"
    }
   ],
   "source": [
    "lake_len.length=lake_len.length.apply(pd.to_numeric)\n",
    "lake_len.sort_values('length',ascending=False).head(1)"
   ]
  },
  {
   "cell_type": "code",
   "execution_count": 6,
   "metadata": {
    "collapsed": false
   },
   "outputs": [],
   "source": [
    "airport=[]\n",
    "for element in document.iterfind('airport'):\n",
    "    airport.append([element.find('name').text,element.find('elevation').text,element.attrib['country']])"
   ]
  },
  {
   "cell_type": "code",
   "execution_count": 7,
   "metadata": {
    "collapsed": true
   },
   "outputs": [],
   "source": [
    "airport=pd.DataFrame(airport)"
   ]
  },
  {
   "cell_type": "code",
   "execution_count": 8,
   "metadata": {
    "collapsed": true
   },
   "outputs": [],
   "source": [
    "airport.columns=['name','elevation','country']"
   ]
  },
  {
   "cell_type": "code",
   "execution_count": 16,
   "metadata": {
    "collapsed": false
   },
   "outputs": [
    {
     "data": {
      "text/plain": [
       "name         object\n",
       "elevation    object\n",
       "country      object\n",
       "dtype: object"
      ]
     },
     "execution_count": 16,
     "metadata": {},
     "output_type": "execute_result"
    }
   ],
   "source": [
    "airport.dtypes"
   ]
  },
  {
   "cell_type": "code",
   "execution_count": 18,
   "metadata": {
    "collapsed": false
   },
   "outputs": [],
   "source": [
    "airport.elevation=airport.elevation.astype(float)"
   ]
  },
  {
   "cell_type": "code",
   "execution_count": 20,
   "metadata": {
    "collapsed": false
   },
   "outputs": [
    {
     "data": {
      "text/html": [
       "<div>\n",
       "<table border=\"1\" class=\"dataframe\">\n",
       "  <thead>\n",
       "    <tr style=\"text-align: right;\">\n",
       "      <th></th>\n",
       "      <th>name</th>\n",
       "      <th>elevation</th>\n",
       "      <th>country</th>\n",
       "    </tr>\n",
       "  </thead>\n",
       "  <tbody>\n",
       "    <tr>\n",
       "      <th>80</th>\n",
       "      <td>El Alto Intl</td>\n",
       "      <td>4063.0</td>\n",
       "      <td>BOL</td>\n",
       "    </tr>\n",
       "    <tr>\n",
       "      <th>219</th>\n",
       "      <td>Lhasa-Gonggar</td>\n",
       "      <td>4005.0</td>\n",
       "      <td>CN</td>\n",
       "    </tr>\n",
       "    <tr>\n",
       "      <th>241</th>\n",
       "      <td>Yushu Batang</td>\n",
       "      <td>3963.0</td>\n",
       "      <td>CN</td>\n",
       "    </tr>\n",
       "    <tr>\n",
       "      <th>813</th>\n",
       "      <td>Juliaca</td>\n",
       "      <td>3827.0</td>\n",
       "      <td>PE</td>\n",
       "    </tr>\n",
       "    <tr>\n",
       "      <th>815</th>\n",
       "      <td>Teniente Alejandro Velasco Astete Intl</td>\n",
       "      <td>3311.0</td>\n",
       "      <td>PE</td>\n",
       "    </tr>\n",
       "  </tbody>\n",
       "</table>\n",
       "</div>"
      ],
      "text/plain": [
       "                                       name  elevation country\n",
       "80                             El Alto Intl     4063.0     BOL\n",
       "219                           Lhasa-Gonggar     4005.0      CN\n",
       "241                            Yushu Batang     3963.0      CN\n",
       "813                                 Juliaca     3827.0      PE\n",
       "815  Teniente Alejandro Velasco Astete Intl     3311.0      PE"
      ]
     },
     "execution_count": 20,
     "metadata": {},
     "output_type": "execute_result"
    }
   ],
   "source": [
    "airport.sort_values('elevation', ascending=False).head()"
   ]
  },
  {
   "cell_type": "code",
   "execution_count": 9,
   "metadata": {
    "collapsed": false
   },
   "outputs": [
    {
     "ename": "ValueError",
     "evalue": "Buffer has wrong number of dimensions (expected 1, got 0)",
     "output_type": "error",
     "traceback": [
      "\u001b[1;31m---------------------------------------------------------------------------\u001b[0m",
      "\u001b[1;31mValueError\u001b[0m                                Traceback (most recent call last)",
      "\u001b[1;32m<ipython-input-9-e59c7d15fcc3>\u001b[0m in \u001b[0;36m<module>\u001b[1;34m()\u001b[0m\n\u001b[1;32m----> 1\u001b[1;33m \u001b[0mairport\u001b[0m\u001b[1;33m.\u001b[0m\u001b[0melevation\u001b[0m\u001b[1;33m=\u001b[0m\u001b[0mairport\u001b[0m\u001b[1;33m.\u001b[0m\u001b[0melevation\u001b[0m\u001b[1;33m.\u001b[0m\u001b[0mapply\u001b[0m\u001b[1;33m(\u001b[0m\u001b[0mpd\u001b[0m\u001b[1;33m.\u001b[0m\u001b[0mto_numeric\u001b[0m\u001b[1;33m)\u001b[0m\u001b[1;33m\u001b[0m\u001b[0m\n\u001b[0m",
      "\u001b[1;32mC:\\Users\\RahulJaiswal\\Anaconda3\\lib\\site-packages\\pandas\\core\\series.py\u001b[0m in \u001b[0;36mapply\u001b[1;34m(self, func, convert_dtype, args, **kwds)\u001b[0m\n\u001b[0;32m   2218\u001b[0m         \u001b[1;32melse\u001b[0m\u001b[1;33m:\u001b[0m\u001b[1;33m\u001b[0m\u001b[0m\n\u001b[0;32m   2219\u001b[0m             \u001b[0mvalues\u001b[0m \u001b[1;33m=\u001b[0m \u001b[0mself\u001b[0m\u001b[1;33m.\u001b[0m\u001b[0masobject\u001b[0m\u001b[1;33m\u001b[0m\u001b[0m\n\u001b[1;32m-> 2220\u001b[1;33m             \u001b[0mmapped\u001b[0m \u001b[1;33m=\u001b[0m \u001b[0mlib\u001b[0m\u001b[1;33m.\u001b[0m\u001b[0mmap_infer\u001b[0m\u001b[1;33m(\u001b[0m\u001b[0mvalues\u001b[0m\u001b[1;33m,\u001b[0m \u001b[0mf\u001b[0m\u001b[1;33m,\u001b[0m \u001b[0mconvert\u001b[0m\u001b[1;33m=\u001b[0m\u001b[0mconvert_dtype\u001b[0m\u001b[1;33m)\u001b[0m\u001b[1;33m\u001b[0m\u001b[0m\n\u001b[0m\u001b[0;32m   2221\u001b[0m \u001b[1;33m\u001b[0m\u001b[0m\n\u001b[0;32m   2222\u001b[0m         \u001b[1;32mif\u001b[0m \u001b[0mlen\u001b[0m\u001b[1;33m(\u001b[0m\u001b[0mmapped\u001b[0m\u001b[1;33m)\u001b[0m \u001b[1;32mand\u001b[0m \u001b[0misinstance\u001b[0m\u001b[1;33m(\u001b[0m\u001b[0mmapped\u001b[0m\u001b[1;33m[\u001b[0m\u001b[1;36m0\u001b[0m\u001b[1;33m]\u001b[0m\u001b[1;33m,\u001b[0m \u001b[0mSeries\u001b[0m\u001b[1;33m)\u001b[0m\u001b[1;33m:\u001b[0m\u001b[1;33m\u001b[0m\u001b[0m\n",
      "\u001b[1;32mpandas\\src\\inference.pyx\u001b[0m in \u001b[0;36mpandas.lib.map_infer (pandas\\lib.c:62658)\u001b[1;34m()\u001b[0m\n",
      "\u001b[1;32mC:\\Users\\RahulJaiswal\\Anaconda3\\lib\\site-packages\\pandas\\tools\\util.py\u001b[0m in \u001b[0;36mto_numeric\u001b[1;34m(arg, errors)\u001b[0m\n\u001b[0;32m    113\u001b[0m         \u001b[1;32mtry\u001b[0m\u001b[1;33m:\u001b[0m\u001b[1;33m\u001b[0m\u001b[0m\n\u001b[0;32m    114\u001b[0m             values = lib.maybe_convert_numeric(values, set(),\n\u001b[1;32m--> 115\u001b[1;33m                                                coerce_numeric=coerce_numeric)\n\u001b[0m\u001b[0;32m    116\u001b[0m         \u001b[1;32mexcept\u001b[0m\u001b[1;33m:\u001b[0m\u001b[1;33m\u001b[0m\u001b[0m\n\u001b[0;32m    117\u001b[0m             \u001b[1;32mif\u001b[0m \u001b[0merrors\u001b[0m \u001b[1;33m==\u001b[0m \u001b[1;34m'raise'\u001b[0m\u001b[1;33m:\u001b[0m\u001b[1;33m\u001b[0m\u001b[0m\n",
      "\u001b[1;32mpandas\\src\\inference.pyx\u001b[0m in \u001b[0;36mpandas.lib.maybe_convert_numeric (pandas\\lib.c:52460)\u001b[1;34m()\u001b[0m\n",
      "\u001b[1;31mValueError\u001b[0m: Buffer has wrong number of dimensions (expected 1, got 0)"
     ]
    }
   ],
   "source": []
  },
  {
   "cell_type": "code",
   "execution_count": 63,
   "metadata": {
    "collapsed": false
   },
   "outputs": [
    {
     "data": {
      "text/plain": [
       "pandas.core.series.Series"
      ]
     },
     "execution_count": 63,
     "metadata": {},
     "output_type": "execute_result"
    }
   ],
   "source": [
    "type(airport.elevation)"
   ]
  },
  {
   "cell_type": "code",
   "execution_count": 64,
   "metadata": {
    "collapsed": false
   },
   "outputs": [
    {
     "data": {
      "text/html": [
       "<div>\n",
       "<table border=\"1\" class=\"dataframe\">\n",
       "  <thead>\n",
       "    <tr style=\"text-align: right;\">\n",
       "      <th></th>\n",
       "      <th>name</th>\n",
       "      <th>elevation</th>\n",
       "      <th>country</th>\n",
       "    </tr>\n",
       "  </thead>\n",
       "  <tbody>\n",
       "    <tr>\n",
       "      <th>0</th>\n",
       "      <td>Herat</td>\n",
       "      <td>977</td>\n",
       "      <td>AFG</td>\n",
       "    </tr>\n",
       "    <tr>\n",
       "      <th>1</th>\n",
       "      <td>Kabul Intl</td>\n",
       "      <td>1792</td>\n",
       "      <td>AFG</td>\n",
       "    </tr>\n",
       "    <tr>\n",
       "      <th>2</th>\n",
       "      <td>Tirana Rinas</td>\n",
       "      <td>38</td>\n",
       "      <td>AL</td>\n",
       "    </tr>\n",
       "    <tr>\n",
       "      <th>3</th>\n",
       "      <td>Cheikh Larbi Tebessi</td>\n",
       "      <td>811</td>\n",
       "      <td>DZ</td>\n",
       "    </tr>\n",
       "    <tr>\n",
       "      <th>4</th>\n",
       "      <td>Batna Airport</td>\n",
       "      <td>822</td>\n",
       "      <td>DZ</td>\n",
       "    </tr>\n",
       "    <tr>\n",
       "      <th>5</th>\n",
       "      <td>Soummam</td>\n",
       "      <td>6</td>\n",
       "      <td>DZ</td>\n",
       "    </tr>\n",
       "    <tr>\n",
       "      <th>6</th>\n",
       "      <td>Tamanrasset</td>\n",
       "      <td>1377</td>\n",
       "      <td>DZ</td>\n",
       "    </tr>\n",
       "    <tr>\n",
       "      <th>7</th>\n",
       "      <td>Biskra</td>\n",
       "      <td>88</td>\n",
       "      <td>DZ</td>\n",
       "    </tr>\n",
       "    <tr>\n",
       "      <th>8</th>\n",
       "      <td>Mohamed Boudiaf Intl</td>\n",
       "      <td>691</td>\n",
       "      <td>DZ</td>\n",
       "    </tr>\n",
       "    <tr>\n",
       "      <th>9</th>\n",
       "      <td>Ain Arnat Airport</td>\n",
       "      <td>1024</td>\n",
       "      <td>DZ</td>\n",
       "    </tr>\n",
       "    <tr>\n",
       "      <th>10</th>\n",
       "      <td>Es Senia</td>\n",
       "      <td>90</td>\n",
       "      <td>DZ</td>\n",
       "    </tr>\n",
       "    <tr>\n",
       "      <th>11</th>\n",
       "      <td>Noumerat</td>\n",
       "      <td>461</td>\n",
       "      <td>DZ</td>\n",
       "    </tr>\n",
       "    <tr>\n",
       "      <th>12</th>\n",
       "      <td>Annaba</td>\n",
       "      <td>5</td>\n",
       "      <td>DZ</td>\n",
       "    </tr>\n",
       "    <tr>\n",
       "      <th>13</th>\n",
       "      <td>Houari Boumediene</td>\n",
       "      <td>25</td>\n",
       "      <td>DZ</td>\n",
       "    </tr>\n",
       "    <tr>\n",
       "      <th>14</th>\n",
       "      <td>Zenata</td>\n",
       "      <td>248</td>\n",
       "      <td>DZ</td>\n",
       "    </tr>\n",
       "    <tr>\n",
       "      <th>15</th>\n",
       "      <td>Pago Pago Intl</td>\n",
       "      <td>10</td>\n",
       "      <td>AMSA</td>\n",
       "    </tr>\n",
       "    <tr>\n",
       "      <th>16</th>\n",
       "      <td>Lubango</td>\n",
       "      <td>1762</td>\n",
       "      <td>ANG</td>\n",
       "    </tr>\n",
       "    <tr>\n",
       "      <th>17</th>\n",
       "      <td>Cabinda</td>\n",
       "      <td>20</td>\n",
       "      <td>ANG</td>\n",
       "    </tr>\n",
       "    <tr>\n",
       "      <th>18</th>\n",
       "      <td>Menongue</td>\n",
       "      <td>1363</td>\n",
       "      <td>ANG</td>\n",
       "    </tr>\n",
       "    <tr>\n",
       "      <th>19</th>\n",
       "      <td>Luanda 4 De Fevereiro</td>\n",
       "      <td>74</td>\n",
       "      <td>ANG</td>\n",
       "    </tr>\n",
       "    <tr>\n",
       "      <th>20</th>\n",
       "      <td>Huambo</td>\n",
       "      <td>1703</td>\n",
       "      <td>ANG</td>\n",
       "    </tr>\n",
       "    <tr>\n",
       "      <th>21</th>\n",
       "      <td>Wallblake</td>\n",
       "      <td>39</td>\n",
       "      <td>AXA</td>\n",
       "    </tr>\n",
       "    <tr>\n",
       "      <th>22</th>\n",
       "      <td>V C Bird Intl</td>\n",
       "      <td>19</td>\n",
       "      <td>AG</td>\n",
       "    </tr>\n",
       "    <tr>\n",
       "      <th>23</th>\n",
       "      <td>La Rioja</td>\n",
       "      <td>438</td>\n",
       "      <td>RA</td>\n",
       "    </tr>\n",
       "    <tr>\n",
       "      <th>24</th>\n",
       "      <td>Jujuy</td>\n",
       "      <td>920</td>\n",
       "      <td>RA</td>\n",
       "    </tr>\n",
       "    <tr>\n",
       "      <th>25</th>\n",
       "      <td>Comandante Espora</td>\n",
       "      <td>75</td>\n",
       "      <td>RA</td>\n",
       "    </tr>\n",
       "    <tr>\n",
       "      <th>26</th>\n",
       "      <td>Teniente Benjamin Matienzo</td>\n",
       "      <td>456</td>\n",
       "      <td>RA</td>\n",
       "    </tr>\n",
       "    <tr>\n",
       "      <th>27</th>\n",
       "      <td>San Luis</td>\n",
       "      <td>710</td>\n",
       "      <td>RA</td>\n",
       "    </tr>\n",
       "    <tr>\n",
       "      <th>28</th>\n",
       "      <td>Santiago del Estero</td>\n",
       "      <td>200</td>\n",
       "      <td>RA</td>\n",
       "    </tr>\n",
       "    <tr>\n",
       "      <th>29</th>\n",
       "      <td>Sauce Viejo</td>\n",
       "      <td>17</td>\n",
       "      <td>RA</td>\n",
       "    </tr>\n",
       "    <tr>\n",
       "      <th>...</th>\n",
       "      <td>...</td>\n",
       "      <td>...</td>\n",
       "      <td>...</td>\n",
       "    </tr>\n",
       "    <tr>\n",
       "      <th>1285</th>\n",
       "      <td>Samarkand</td>\n",
       "      <td>678</td>\n",
       "      <td>UZB</td>\n",
       "    </tr>\n",
       "    <tr>\n",
       "      <th>1286</th>\n",
       "      <td>Port Vila Bauerfield</td>\n",
       "      <td>21</td>\n",
       "      <td>VU</td>\n",
       "    </tr>\n",
       "    <tr>\n",
       "      <th>1287</th>\n",
       "      <td>General Manuel Carlos Piar</td>\n",
       "      <td>144</td>\n",
       "      <td>YV</td>\n",
       "    </tr>\n",
       "    <tr>\n",
       "      <th>1288</th>\n",
       "      <td>General Jose Antonio Anzoategui Intl</td>\n",
       "      <td>8</td>\n",
       "      <td>YV</td>\n",
       "    </tr>\n",
       "    <tr>\n",
       "      <th>1289</th>\n",
       "      <td>Casique Aramare</td>\n",
       "      <td>75</td>\n",
       "      <td>YV</td>\n",
       "    </tr>\n",
       "    <tr>\n",
       "      <th>1290</th>\n",
       "      <td>Barinas</td>\n",
       "      <td>203</td>\n",
       "      <td>YV</td>\n",
       "    </tr>\n",
       "    <tr>\n",
       "      <th>1291</th>\n",
       "      <td>Barquisimeto Intl</td>\n",
       "      <td>623</td>\n",
       "      <td>YV</td>\n",
       "    </tr>\n",
       "    <tr>\n",
       "      <th>1292</th>\n",
       "      <td>La Chinita Intl</td>\n",
       "      <td>72</td>\n",
       "      <td>YV</td>\n",
       "    </tr>\n",
       "    <tr>\n",
       "      <th>1293</th>\n",
       "      <td>Arturo Michelena Intl</td>\n",
       "      <td>432</td>\n",
       "      <td>YV</td>\n",
       "    </tr>\n",
       "    <tr>\n",
       "      <th>1294</th>\n",
       "      <td>Maturin</td>\n",
       "      <td>68</td>\n",
       "      <td>YV</td>\n",
       "    </tr>\n",
       "    <tr>\n",
       "      <th>1295</th>\n",
       "      <td>Simon Bolivar Intl</td>\n",
       "      <td>72</td>\n",
       "      <td>YV</td>\n",
       "    </tr>\n",
       "    <tr>\n",
       "      <th>1296</th>\n",
       "      <td>Rach Gia</td>\n",
       "      <td>2</td>\n",
       "      <td>VN</td>\n",
       "    </tr>\n",
       "    <tr>\n",
       "      <th>1297</th>\n",
       "      <td>Vinh Airport</td>\n",
       "      <td>7</td>\n",
       "      <td>VN</td>\n",
       "    </tr>\n",
       "    <tr>\n",
       "      <th>1298</th>\n",
       "      <td>Tansonnhat Intl</td>\n",
       "      <td>10</td>\n",
       "      <td>VN</td>\n",
       "    </tr>\n",
       "    <tr>\n",
       "      <th>1299</th>\n",
       "      <td>Noibai Intl</td>\n",
       "      <td>12</td>\n",
       "      <td>VN</td>\n",
       "    </tr>\n",
       "    <tr>\n",
       "      <th>1300</th>\n",
       "      <td>Cat Bi International Airport</td>\n",
       "      <td>2</td>\n",
       "      <td>VN</td>\n",
       "    </tr>\n",
       "    <tr>\n",
       "      <th>1301</th>\n",
       "      <td>Tra Noc Airport</td>\n",
       "      <td>3</td>\n",
       "      <td>VN</td>\n",
       "    </tr>\n",
       "    <tr>\n",
       "      <th>1302</th>\n",
       "      <td>Nha Trang</td>\n",
       "      <td>6</td>\n",
       "      <td>VN</td>\n",
       "    </tr>\n",
       "    <tr>\n",
       "      <th>1303</th>\n",
       "      <td>Cyril E King</td>\n",
       "      <td>7</td>\n",
       "      <td>VIRG</td>\n",
       "    </tr>\n",
       "    <tr>\n",
       "      <th>1304</th>\n",
       "      <td>Wallis</td>\n",
       "      <td>24</td>\n",
       "      <td>WAFU</td>\n",
       "    </tr>\n",
       "    <tr>\n",
       "      <th>1305</th>\n",
       "      <td>Hassan I Airport</td>\n",
       "      <td>63</td>\n",
       "      <td>WSA</td>\n",
       "    </tr>\n",
       "    <tr>\n",
       "      <th>1306</th>\n",
       "      <td>Sanaa Intl</td>\n",
       "      <td>2200</td>\n",
       "      <td>YE</td>\n",
       "    </tr>\n",
       "    <tr>\n",
       "      <th>1307</th>\n",
       "      <td>Hodeidah Intl</td>\n",
       "      <td>13</td>\n",
       "      <td>YE</td>\n",
       "    </tr>\n",
       "    <tr>\n",
       "      <th>1308</th>\n",
       "      <td>Taiz Intl</td>\n",
       "      <td>1475</td>\n",
       "      <td>YE</td>\n",
       "    </tr>\n",
       "    <tr>\n",
       "      <th>1309</th>\n",
       "      <td>Aden Intl</td>\n",
       "      <td>2</td>\n",
       "      <td>YE</td>\n",
       "    </tr>\n",
       "    <tr>\n",
       "      <th>1310</th>\n",
       "      <td>Livingstone</td>\n",
       "      <td>1007</td>\n",
       "      <td>Z</td>\n",
       "    </tr>\n",
       "    <tr>\n",
       "      <th>1311</th>\n",
       "      <td>Ndola</td>\n",
       "      <td>1270</td>\n",
       "      <td>Z</td>\n",
       "    </tr>\n",
       "    <tr>\n",
       "      <th>1312</th>\n",
       "      <td>Lusaka Intl</td>\n",
       "      <td>1152</td>\n",
       "      <td>Z</td>\n",
       "    </tr>\n",
       "    <tr>\n",
       "      <th>1313</th>\n",
       "      <td>J M Nkomo Intl</td>\n",
       "      <td>1329</td>\n",
       "      <td>ZW</td>\n",
       "    </tr>\n",
       "    <tr>\n",
       "      <th>1314</th>\n",
       "      <td>Harare Intl</td>\n",
       "      <td>1490</td>\n",
       "      <td>ZW</td>\n",
       "    </tr>\n",
       "  </tbody>\n",
       "</table>\n",
       "<p>1315 rows × 3 columns</p>\n",
       "</div>"
      ],
      "text/plain": [
       "                                      name elevation country\n",
       "0                                    Herat       977     AFG\n",
       "1                               Kabul Intl      1792     AFG\n",
       "2                             Tirana Rinas        38      AL\n",
       "3                     Cheikh Larbi Tebessi       811      DZ\n",
       "4                            Batna Airport       822      DZ\n",
       "5                                  Soummam         6      DZ\n",
       "6                              Tamanrasset      1377      DZ\n",
       "7                                   Biskra        88      DZ\n",
       "8                     Mohamed Boudiaf Intl       691      DZ\n",
       "9                        Ain Arnat Airport      1024      DZ\n",
       "10                                Es Senia        90      DZ\n",
       "11                                Noumerat       461      DZ\n",
       "12                                  Annaba         5      DZ\n",
       "13                       Houari Boumediene        25      DZ\n",
       "14                                  Zenata       248      DZ\n",
       "15                          Pago Pago Intl        10    AMSA\n",
       "16                                 Lubango      1762     ANG\n",
       "17                                 Cabinda        20     ANG\n",
       "18                                Menongue      1363     ANG\n",
       "19                   Luanda 4 De Fevereiro        74     ANG\n",
       "20                                  Huambo      1703     ANG\n",
       "21                               Wallblake        39     AXA\n",
       "22                           V C Bird Intl        19      AG\n",
       "23                                La Rioja       438      RA\n",
       "24                                   Jujuy       920      RA\n",
       "25                       Comandante Espora        75      RA\n",
       "26              Teniente Benjamin Matienzo       456      RA\n",
       "27                                San Luis       710      RA\n",
       "28                     Santiago del Estero       200      RA\n",
       "29                             Sauce Viejo        17      RA\n",
       "...                                    ...       ...     ...\n",
       "1285                             Samarkand       678     UZB\n",
       "1286                  Port Vila Bauerfield        21      VU\n",
       "1287            General Manuel Carlos Piar       144      YV\n",
       "1288  General Jose Antonio Anzoategui Intl         8      YV\n",
       "1289                       Casique Aramare        75      YV\n",
       "1290                               Barinas       203      YV\n",
       "1291                     Barquisimeto Intl       623      YV\n",
       "1292                       La Chinita Intl        72      YV\n",
       "1293                 Arturo Michelena Intl       432      YV\n",
       "1294                               Maturin        68      YV\n",
       "1295                    Simon Bolivar Intl        72      YV\n",
       "1296                              Rach Gia         2      VN\n",
       "1297                          Vinh Airport         7      VN\n",
       "1298                       Tansonnhat Intl        10      VN\n",
       "1299                           Noibai Intl        12      VN\n",
       "1300          Cat Bi International Airport         2      VN\n",
       "1301                       Tra Noc Airport         3      VN\n",
       "1302                             Nha Trang         6      VN\n",
       "1303                          Cyril E King         7    VIRG\n",
       "1304                                Wallis        24    WAFU\n",
       "1305                      Hassan I Airport        63     WSA\n",
       "1306                            Sanaa Intl      2200      YE\n",
       "1307                         Hodeidah Intl        13      YE\n",
       "1308                             Taiz Intl      1475      YE\n",
       "1309                             Aden Intl         2      YE\n",
       "1310                           Livingstone      1007       Z\n",
       "1311                                 Ndola      1270       Z\n",
       "1312                           Lusaka Intl      1152       Z\n",
       "1313                        J M Nkomo Intl      1329      ZW\n",
       "1314                           Harare Intl      1490      ZW\n",
       "\n",
       "[1315 rows x 3 columns]"
      ]
     },
     "execution_count": 64,
     "metadata": {},
     "output_type": "execute_result"
    }
   ],
   "source": [
    "airport"
   ]
  },
  {
   "cell_type": "code",
   "execution_count": null,
   "metadata": {
    "collapsed": true
   },
   "outputs": [],
   "source": []
  },
  {
   "cell_type": "code",
   "execution_count": 50,
   "metadata": {
    "collapsed": false
   },
   "outputs": [],
   "source": [
    "con_name=[]\n",
    "for element in document.iterfind('country'):\n",
    "    con_name.append([element.attrib['car_code'],element.find('name').text])"
   ]
  },
  {
   "cell_type": "code",
   "execution_count": 51,
   "metadata": {
    "collapsed": true
   },
   "outputs": [],
   "source": [
    "con_name=pd.DataFrame(con_name)"
   ]
  },
  {
   "cell_type": "code",
   "execution_count": 52,
   "metadata": {
    "collapsed": false
   },
   "outputs": [],
   "source": [
    "con_name.columns=['code','name']\n"
   ]
  },
  {
   "cell_type": "code",
   "execution_count": 53,
   "metadata": {
    "collapsed": false
   },
   "outputs": [
    {
     "data": {
      "text/html": [
       "<div>\n",
       "<table border=\"1\" class=\"dataframe\">\n",
       "  <thead>\n",
       "    <tr style=\"text-align: right;\">\n",
       "      <th></th>\n",
       "      <th>code</th>\n",
       "      <th>name</th>\n",
       "    </tr>\n",
       "  </thead>\n",
       "  <tbody>\n",
       "    <tr>\n",
       "      <th>23</th>\n",
       "      <td>R</td>\n",
       "      <td>Russia</td>\n",
       "    </tr>\n",
       "  </tbody>\n",
       "</table>\n",
       "</div>"
      ],
      "text/plain": [
       "   code    name\n",
       "23    R  Russia"
      ]
     },
     "execution_count": 53,
     "metadata": {},
     "output_type": "execute_result"
    }
   ],
   "source": [
    "con_name[con_name.code=='R']"
   ]
  },
  {
   "cell_type": "code",
   "execution_count": 52,
   "metadata": {
    "collapsed": false
   },
   "outputs": [],
   "source": [
    "arr = []\n",
    "arr.append(['aa1', 'aa2','arr3'])"
   ]
  },
  {
   "cell_type": "code",
   "execution_count": 53,
   "metadata": {
    "collapsed": false
   },
   "outputs": [
    {
     "data": {
      "text/plain": [
       "[['aa1', 'aa2', 'arr3']]"
      ]
     },
     "execution_count": 53,
     "metadata": {},
     "output_type": "execute_result"
    }
   ],
   "source": [
    "arr"
   ]
  },
  {
   "cell_type": "code",
   "execution_count": 50,
   "metadata": {
    "collapsed": false
   },
   "outputs": [
    {
     "data": {
      "text/plain": [
       "[['aa1', 'aa2']]"
      ]
     },
     "execution_count": 50,
     "metadata": {},
     "output_type": "execute_result"
    }
   ],
   "source": [
    "arr = []\n",
    "arr.append([])\n",
    "arr[0].append('aa1')\n",
    "arr[0].append('aa2')\n",
    "\n",
    "arr"
   ]
  },
  {
   "cell_type": "code",
   "execution_count": 36,
   "metadata": {
    "collapsed": true
   },
   "outputs": [],
   "source": [
    "import pandas as pd"
   ]
  },
  {
   "cell_type": "code",
   "execution_count": null,
   "metadata": {
    "collapsed": true
   },
   "outputs": [],
   "source": []
  },
  {
   "cell_type": "code",
   "execution_count": null,
   "metadata": {
    "collapsed": true
   },
   "outputs": [],
   "source": []
  }
 ],
 "metadata": {
  "anaconda-cloud": {},
  "kernelspec": {
   "display_name": "Python [Root]",
   "language": "python",
   "name": "Python [Root]"
  },
  "language_info": {
   "codemirror_mode": {
    "name": "ipython",
    "version": 3
   },
   "file_extension": ".py",
   "mimetype": "text/x-python",
   "name": "python",
   "nbconvert_exporter": "python",
   "pygments_lexer": "ipython3",
   "version": "3.5.2"
  }
 },
 "nbformat": 4,
 "nbformat_minor": 0
}
